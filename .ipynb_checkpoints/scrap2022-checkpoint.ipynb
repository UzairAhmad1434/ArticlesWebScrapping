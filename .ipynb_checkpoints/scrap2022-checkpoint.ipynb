{
 "cells": [
  {
   "cell_type": "code",
   "execution_count": 20,
   "metadata": {},
   "outputs": [
    {
     "name": "stderr",
     "output_type": "stream",
     "text": [
      "C:\\Users\\aunir\\anaconda3\\lib\\site-packages\\cryptography\\hazmat\\backends\\openssl\\x509.py:17: CryptographyDeprecationWarning: This version of cryptography contains a temporary pyOpenSSL fallback path. Upgrade pyOpenSSL now.\n",
      "  utils.DeprecatedIn35,\n"
     ]
    },
    {
     "name": "stdout",
     "output_type": "stream",
     "text": [
      "['Top JavaScript Frameworks and Topics to Learn in 2019', 'What I want (and don’t want) to see on your software engineering resume', 'Load Testing Using Apache JMeter', 'The Illusion of Control in ‘Black Mirror: Bandersnatch’', 'The Worst Design Crimes of 2018']\n"
     ]
    }
   ],
   "source": [
    "import urllib.request\n",
    "import requests\n",
    "import bs4\n",
    "from bs4 import BeautifulSoup\n",
    "import pandas as pd\n",
    "\n",
    "data = pd.read_csv('url_technology.csv')\n",
    "data.columns = ['urls']\n",
    "title = []\n",
    "data_urls_scraped=[]\n",
    "\n",
    "for i in range(5):\n",
    "    try:\n",
    "        url_to_scrap = data.iloc[i]['urls']\n",
    "        #print(url_to_scrap)\n",
    "        r = requests.get(url_to_scrap, timeout=10)\n",
    "        text_got = r.text+''\n",
    "        r.close\n",
    "        data_urls_scraped.append(url_to_scrap)\n",
    "        \n",
    "        soup = BeautifulSoup(text_got, \"html.parser\")\n",
    "        headings = []\n",
    "        \n",
    "        for my_tag in soup.find_all('h1'):\n",
    "            headings.append(my_tag.text)        \n",
    "        if(len(headings) > 0):\n",
    "            title.append(headings[0])\n",
    "            \n",
    "        \n",
    "    except:\n",
    "        print(\"url not found\")\n",
    "        \n",
    "print(title)"
   ]
  },
  {
   "cell_type": "code",
   "execution_count": 21,
   "metadata": {},
   "outputs": [],
   "source": [
    "all_titles = pd.DataFrame(title)\n",
    "all_titles.to_csv('titles_extracted_today.csv')"
   ]
  }
 ],
 "metadata": {
  "kernelspec": {
   "display_name": "Python 3",
   "language": "python",
   "name": "python3"
  },
  "language_info": {
   "codemirror_mode": {
    "name": "ipython",
    "version": 3
   },
   "file_extension": ".py",
   "mimetype": "text/x-python",
   "name": "python",
   "nbconvert_exporter": "python",
   "pygments_lexer": "ipython3",
   "version": "3.7.6"
  }
 },
 "nbformat": 4,
 "nbformat_minor": 4
}
